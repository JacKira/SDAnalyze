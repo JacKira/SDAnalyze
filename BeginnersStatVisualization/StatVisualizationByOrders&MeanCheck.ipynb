{
 "cells": [
  {
   "cell_type": "code",
   "execution_count": 109,
   "id": "766231f0",
   "metadata": {},
   "outputs": [],
   "source": [
    "import pyodbc\n",
    "import numpy as np\n",
    "import matplotlib.pyplot as plt\n",
    "import pandas as pd\n",
    "import seaborn as sns\n",
    "import gc\n",
    "import datetime\n",
    "from ipywidgets import IntProgress\n",
    "from matplotlib import cm\n",
    "import swifter"
   ]
  },
  {
   "cell_type": "code",
   "execution_count": 42,
   "id": "d6d6b621",
   "metadata": {},
   "outputs": [
    {
     "data": {
      "text/plain": [
       "12231"
      ]
     },
     "execution_count": 42,
     "metadata": {},
     "output_type": "execute_result"
    }
   ],
   "source": [
    "gc.collect()"
   ]
  },
  {
   "cell_type": "code",
   "execution_count": 43,
   "id": "ca6231d3",
   "metadata": {},
   "outputs": [],
   "source": [
    "server = 'analys-s'\n",
    "driver = '{SQL Server}'\n",
    "connstr = \"DRIVER = {0};SERVER = {1};\".replace(' ', '').format(driver, server)\n",
    "with pyodbc.connect(connstr) as conn:\n",
    "    strq = 'SELECT * \\\n",
    "            FROM ##BeginnersStat'\n",
    "    df_begin = pd.read_sql(strq, conn)\n"
   ]
  },
  {
   "cell_type": "code",
   "execution_count": 44,
   "id": "9945ef27",
   "metadata": {},
   "outputs": [],
   "source": [
    "server = 'analys-s'\n",
    "driver = '{SQL Server}'\n",
    "connstr = \"DRIVER = {0};SERVER = {1};\".replace(' ', '').format(driver, server)\n",
    "with pyodbc.connect(connstr) as conn:\n",
    "    strq = 'SELECT * \\\n",
    "            FROM ##CustomersStat'\n",
    "    df_cust = pd.read_sql(strq, conn)"
   ]
  },
  {
   "cell_type": "code",
   "execution_count": 45,
   "id": "47c32587",
   "metadata": {
    "scrolled": true
   },
   "outputs": [
    {
     "data": {
      "text/html": [
       "<div>\n",
       "<style scoped>\n",
       "    .dataframe tbody tr th:only-of-type {\n",
       "        vertical-align: middle;\n",
       "    }\n",
       "\n",
       "    .dataframe tbody tr th {\n",
       "        vertical-align: top;\n",
       "    }\n",
       "\n",
       "    .dataframe thead th {\n",
       "        text-align: right;\n",
       "    }\n",
       "</style>\n",
       "<table border=\"1\" class=\"dataframe\">\n",
       "  <thead>\n",
       "    <tr style=\"text-align: right;\">\n",
       "      <th></th>\n",
       "      <th>CURDISCOUNTCARDTYPE</th>\n",
       "      <th>CURDISCOUNTCARDID</th>\n",
       "      <th>Orders</th>\n",
       "      <th>MeanCheck</th>\n",
       "    </tr>\n",
       "  </thead>\n",
       "  <tbody>\n",
       "    <tr>\n",
       "      <th>0</th>\n",
       "      <td>08</td>\n",
       "      <td>30275757</td>\n",
       "      <td>1</td>\n",
       "      <td>3539.399902</td>\n",
       "    </tr>\n",
       "    <tr>\n",
       "      <th>1</th>\n",
       "      <td>08</td>\n",
       "      <td>30277553</td>\n",
       "      <td>1</td>\n",
       "      <td>399.000000</td>\n",
       "    </tr>\n",
       "    <tr>\n",
       "      <th>2</th>\n",
       "      <td>08</td>\n",
       "      <td>30278001</td>\n",
       "      <td>1</td>\n",
       "      <td>389.350006</td>\n",
       "    </tr>\n",
       "    <tr>\n",
       "      <th>3</th>\n",
       "      <td>08</td>\n",
       "      <td>30285573</td>\n",
       "      <td>1</td>\n",
       "      <td>2503.000000</td>\n",
       "    </tr>\n",
       "    <tr>\n",
       "      <th>4</th>\n",
       "      <td>08</td>\n",
       "      <td>30319068</td>\n",
       "      <td>1</td>\n",
       "      <td>298.000000</td>\n",
       "    </tr>\n",
       "    <tr>\n",
       "      <th>...</th>\n",
       "      <td>...</td>\n",
       "      <td>...</td>\n",
       "      <td>...</td>\n",
       "      <td>...</td>\n",
       "    </tr>\n",
       "    <tr>\n",
       "      <th>1507661</th>\n",
       "      <td>04</td>\n",
       "      <td>15217717</td>\n",
       "      <td>1</td>\n",
       "      <td>5124.500000</td>\n",
       "    </tr>\n",
       "    <tr>\n",
       "      <th>1507662</th>\n",
       "      <td>04</td>\n",
       "      <td>15367261</td>\n",
       "      <td>1</td>\n",
       "      <td>848.500000</td>\n",
       "    </tr>\n",
       "    <tr>\n",
       "      <th>1507663</th>\n",
       "      <td>04</td>\n",
       "      <td>14830736</td>\n",
       "      <td>2</td>\n",
       "      <td>803.500000</td>\n",
       "    </tr>\n",
       "    <tr>\n",
       "      <th>1507664</th>\n",
       "      <td>04</td>\n",
       "      <td>15473358</td>\n",
       "      <td>1</td>\n",
       "      <td>2661.750000</td>\n",
       "    </tr>\n",
       "    <tr>\n",
       "      <th>1507665</th>\n",
       "      <td>04</td>\n",
       "      <td>15550459</td>\n",
       "      <td>1</td>\n",
       "      <td>299.000000</td>\n",
       "    </tr>\n",
       "  </tbody>\n",
       "</table>\n",
       "<p>1507666 rows × 4 columns</p>\n",
       "</div>"
      ],
      "text/plain": [
       "        CURDISCOUNTCARDTYPE CURDISCOUNTCARDID  Orders    MeanCheck\n",
       "0                        08          30275757       1  3539.399902\n",
       "1                        08          30277553       1   399.000000\n",
       "2                        08          30278001       1   389.350006\n",
       "3                        08          30285573       1  2503.000000\n",
       "4                        08          30319068       1   298.000000\n",
       "...                     ...               ...     ...          ...\n",
       "1507661                  04          15217717       1  5124.500000\n",
       "1507662                  04          15367261       1   848.500000\n",
       "1507663                  04          14830736       2   803.500000\n",
       "1507664                  04          15473358       1  2661.750000\n",
       "1507665                  04          15550459       1   299.000000\n",
       "\n",
       "[1507666 rows x 4 columns]"
      ]
     },
     "execution_count": 45,
     "metadata": {},
     "output_type": "execute_result"
    }
   ],
   "source": [
    "df_begin = df_begin.rename(columns = {'Orderds':'Orders'})\n",
    "df_begin"
   ]
  },
  {
   "cell_type": "code",
   "execution_count": 46,
   "id": "9aa1fcc8",
   "metadata": {
    "scrolled": true
   },
   "outputs": [
    {
     "data": {
      "text/html": [
       "<div>\n",
       "<style scoped>\n",
       "    .dataframe tbody tr th:only-of-type {\n",
       "        vertical-align: middle;\n",
       "    }\n",
       "\n",
       "    .dataframe tbody tr th {\n",
       "        vertical-align: top;\n",
       "    }\n",
       "\n",
       "    .dataframe thead th {\n",
       "        text-align: right;\n",
       "    }\n",
       "</style>\n",
       "<table border=\"1\" class=\"dataframe\">\n",
       "  <thead>\n",
       "    <tr style=\"text-align: right;\">\n",
       "      <th></th>\n",
       "      <th>CURDISCOUNTCARDTYPE</th>\n",
       "      <th>CURDISCOUNTCARDID</th>\n",
       "      <th>Orders</th>\n",
       "      <th>MeanCheck</th>\n",
       "    </tr>\n",
       "  </thead>\n",
       "  <tbody>\n",
       "    <tr>\n",
       "      <th>0</th>\n",
       "      <td>05</td>\n",
       "      <td>10002688</td>\n",
       "      <td>2</td>\n",
       "      <td>718.465000</td>\n",
       "    </tr>\n",
       "    <tr>\n",
       "      <th>1</th>\n",
       "      <td>05</td>\n",
       "      <td>10254420</td>\n",
       "      <td>1</td>\n",
       "      <td>4399.500000</td>\n",
       "    </tr>\n",
       "    <tr>\n",
       "      <th>2</th>\n",
       "      <td>05</td>\n",
       "      <td>10449951</td>\n",
       "      <td>2</td>\n",
       "      <td>2556.000000</td>\n",
       "    </tr>\n",
       "    <tr>\n",
       "      <th>3</th>\n",
       "      <td>05</td>\n",
       "      <td>10468861</td>\n",
       "      <td>4</td>\n",
       "      <td>933.600006</td>\n",
       "    </tr>\n",
       "    <tr>\n",
       "      <th>4</th>\n",
       "      <td>05</td>\n",
       "      <td>10509415</td>\n",
       "      <td>2</td>\n",
       "      <td>2621.700104</td>\n",
       "    </tr>\n",
       "    <tr>\n",
       "      <th>...</th>\n",
       "      <td>...</td>\n",
       "      <td>...</td>\n",
       "      <td>...</td>\n",
       "      <td>...</td>\n",
       "    </tr>\n",
       "    <tr>\n",
       "      <th>11793651</th>\n",
       "      <td>04</td>\n",
       "      <td>07531052</td>\n",
       "      <td>6</td>\n",
       "      <td>642.466667</td>\n",
       "    </tr>\n",
       "    <tr>\n",
       "      <th>11793652</th>\n",
       "      <td>05</td>\n",
       "      <td>09953502</td>\n",
       "      <td>3</td>\n",
       "      <td>3762.000000</td>\n",
       "    </tr>\n",
       "    <tr>\n",
       "      <th>11793653</th>\n",
       "      <td>04</td>\n",
       "      <td>12284407</td>\n",
       "      <td>1</td>\n",
       "      <td>857.000000</td>\n",
       "    </tr>\n",
       "    <tr>\n",
       "      <th>11793654</th>\n",
       "      <td>08</td>\n",
       "      <td>27976644</td>\n",
       "      <td>2</td>\n",
       "      <td>953.900009</td>\n",
       "    </tr>\n",
       "    <tr>\n",
       "      <th>11793655</th>\n",
       "      <td>04</td>\n",
       "      <td>05587021</td>\n",
       "      <td>13</td>\n",
       "      <td>1285.958455</td>\n",
       "    </tr>\n",
       "  </tbody>\n",
       "</table>\n",
       "<p>11793656 rows × 4 columns</p>\n",
       "</div>"
      ],
      "text/plain": [
       "         CURDISCOUNTCARDTYPE CURDISCOUNTCARDID  Orders    MeanCheck\n",
       "0                         05          10002688       2   718.465000\n",
       "1                         05          10254420       1  4399.500000\n",
       "2                         05          10449951       2  2556.000000\n",
       "3                         05          10468861       4   933.600006\n",
       "4                         05          10509415       2  2621.700104\n",
       "...                      ...               ...     ...          ...\n",
       "11793651                  04          07531052       6   642.466667\n",
       "11793652                  05          09953502       3  3762.000000\n",
       "11793653                  04          12284407       1   857.000000\n",
       "11793654                  08          27976644       2   953.900009\n",
       "11793655                  04          05587021      13  1285.958455\n",
       "\n",
       "[11793656 rows x 4 columns]"
      ]
     },
     "execution_count": 46,
     "metadata": {},
     "output_type": "execute_result"
    }
   ],
   "source": [
    "df_cust = df_cust.rename(columns = {'Orderds':'Orders'})\n",
    "df_cust"
   ]
  },
  {
   "cell_type": "code",
   "execution_count": 47,
   "id": "2351e79a",
   "metadata": {},
   "outputs": [],
   "source": [
    "filter_df = list(df_begin.Orders.quantile([0.99]))\n",
    "df_begin = df_begin.query(f\"Orders <= {filter_df[0]}\")\n",
    "\n",
    "filter_df = list(df_begin.MeanCheck.quantile([0.99]))\n",
    "df_begin = df_begin.query(f\"MeanCheck <= {filter_df[0]}\")\n",
    "\n",
    "\n"
   ]
  },
  {
   "cell_type": "code",
   "execution_count": 48,
   "id": "2e464ee1",
   "metadata": {},
   "outputs": [],
   "source": [
    "filter_df = list(df_cust.Orders.quantile([0.99]))\n",
    "df_cust = df_cust.query(f\"Orders < {filter_df[0]}\")\n",
    "\n",
    "filter_df = list(df_cust.MeanCheck.quantile([0.99]))\n",
    "df_cust = df_cust.query(f\"MeanCheck < {filter_df[0]}\")"
   ]
  },
  {
   "cell_type": "code",
   "execution_count": 49,
   "id": "6e095b6b",
   "metadata": {},
   "outputs": [],
   "source": [
    "def GetCMap(curr, max_):\n",
    "    cmap = cm.gnuplot(range(256))\n",
    "    return cmap[int((curr / max_) * 255)]"
   ]
  },
  {
   "cell_type": "code",
   "execution_count": 50,
   "id": "788400b2",
   "metadata": {},
   "outputs": [],
   "source": [
    "def PrintHistOrders(df, density = False,\n",
    "               percentiles = [.25, .50] + np.arange(.7, .99, 0.02).tolist(),\n",
    "               yticks = 0.001\n",
    "              ):\n",
    "\n",
    "        strp = ''\n",
    "        for p in percentiles:\n",
    "            strp += str(round(p, 2)) + '; '\n",
    "        n = df.shape[0]\n",
    "        fig, ax = plt.subplots(figsize = (20, 10))\n",
    "        n = len(percentiles)\n",
    "        \n",
    "        max_x = df.Orders.max()\n",
    "        bins = np.arange(0, max_x + 1, 1)\n",
    "        df.hist( bins = bins, ax = ax, density = density)\n",
    "        \n",
    "        lines = list(df.Orders.quantile(percentiles))\n",
    "        ax.set_xticks(np.arange(0, max_x, 1))\n",
    "        ax.set_xlabel(\"Количество покупок\")\n",
    "        ax.set_ylabel(\"Уникальные покупатели\")\n",
    "        if(density):\n",
    "             ax.set_yticks(np.arange(min(ax.get_ylim()), max(ax.get_ylim()), yticks))\n",
    "        k = 0\n",
    "        np.random.seed(115)\n",
    "        for p in percentiles:\n",
    "            ax.axvline(lines[k], label = str(p) + f' : {lines[k]} покупок', c= GetCMap(lines[k], lines[-1]), linewidth = 4)\n",
    "            k += 1\n",
    "        ax.set_title(\"Частоты покупателей в зависимости от количества покупок\\nПерсентили \" + strp)\n",
    "        ax.legend()\n",
    "        \n",
    "        time_str = str(datetime.datetime.now()).replace(' ', '_').replace(':', '_').split('.')[0]\n",
    "        if(density):\n",
    "            plt.savefig('Orders_Hist_Density_{0}.png'.format(time_str))\n",
    "        else:\n",
    "            plt.savefig('Orders_Hist_{0}.png'.format(time_str))"
   ]
  },
  {
   "cell_type": "code",
   "execution_count": 51,
   "id": "b1fe3f38",
   "metadata": {
    "scrolled": false
   },
   "outputs": [
    {
     "data": {
      "image/png": "[encoded data removed]",
      "text/plain": [
       "<Figure size 1440x720 with 1 Axes>"
      ]
     },
     "metadata": {
      "needs_background": "light"
     },
     "output_type": "display_data"
    }
   ],
   "source": [
    "PrintHistOrders(pd.DataFrame(df_begin.Orders), percentiles = [.25, .50, .7, .8, .9, .95])"
   ]
  },
  {
   "cell_type": "markdown",
   "id": "9bed0729",
   "metadata": {},
   "source": [
    "Топ сегмент новичков - 3+ покупок\n",
    "\n",
    "\n",
    "Средний сегмент - 2 покупки\n",
    "\n",
    "\n",
    "Нижний сегмент - 1 покупка"
   ]
  },
  {
   "cell_type": "code",
   "execution_count": 102,
   "id": "5336553f",
   "metadata": {
    "scrolled": false
   },
   "outputs": [
    {
     "data": {
      "image/png": "[encoded data removed]",
      "text/plain": [
       "<Figure size 1440x720 with 1 Axes>"
      ]
     },
     "metadata": {
      "needs_background": "light"
     },
     "output_type": "display_data"
    }
   ],
   "source": [
    "PrintHistOrders(pd.DataFrame(df_cust.Orders),  percentiles = [.25, .50, .7, .8, .85, .9, .95])"
   ]
  },
  {
   "cell_type": "markdown",
   "id": "81878e3a",
   "metadata": {},
   "source": [
    "Топ сегмент за полтора года - 5+ покупок\n",
    "\n",
    "\n",
    "Хорошие - 3+ покупок\n",
    "\n",
    "\n",
    "Средний сегмент - 2 покупки\n",
    "\n",
    "\n",
    "Нижний сегмент - 1 покупка"
   ]
  },
  {
   "cell_type": "code",
   "execution_count": 53,
   "id": "9daa297e",
   "metadata": {},
   "outputs": [],
   "source": [
    "def PrintHistMeanCheck(df, bins = 10, density = False, xticks = 100,\n",
    "               percentiles = [.25, .50] + np.arange(.7, .99, 0.02).tolist(),\n",
    "               yticks = 0.001\n",
    "              ):\n",
    "\n",
    "        strp = ''\n",
    "        for p in percentiles:\n",
    "            strp += str(round(p, 2)) + '; '\n",
    "        n = df.shape[0]\n",
    "        fig, ax = plt.subplots(figsize = (20, 10))\n",
    "        n = len(percentiles)\n",
    "        \n",
    "         \n",
    "        df.hist( bins = bins, ax = ax, density = density)\n",
    "        max_x = df.MeanCheck.max()\n",
    "        lines = list(df.MeanCheck.quantile(percentiles))\n",
    "        ax.set_xticks(np.arange(0, max_x, xticks))\n",
    "        ax.set_xlabel(\"Средний чек\")\n",
    "        ax.set_ylabel(\"Уникальные покупатели\")\n",
    "        if(density):\n",
    "             ax.set_yticks(np.arange(min(ax.get_ylim()), max(ax.get_ylim()), yticks))\n",
    "        k = 0\n",
    "        np.random.seed(115)\n",
    "        for p in percentiles:\n",
    "            ax.axvline(lines[k], label = str(p) + f' : {lines[k]} покупок', c= GetCMap(lines[k], lines[-1]), linewidth = 4)\n",
    "            k += 1\n",
    "        ax.set_title(\"Частоты покупателей в зависимости от среднего чека\\nПерсентили \" + strp)\n",
    "        ax.legend()\n",
    "        \n",
    "        time_str = str(datetime.datetime.now()).replace(' ', '_').replace(':', '_').split('.')[0]\n",
    "        if(density):\n",
    "            plt.savefig('MeanCHeck_Hist_Density_{0}.png'.format(time_str))\n",
    "        else:\n",
    "            plt.savefig('MeanCHeck_Hist_{0}.png'.format(time_str))"
   ]
  },
  {
   "cell_type": "code",
   "execution_count": 107,
   "id": "cc06b469",
   "metadata": {
    "scrolled": false
   },
   "outputs": [
    {
     "data": {
      "image/png": "[encoded data removed]",
      "text/plain": [
       "<Figure size 1440x720 with 1 Axes>"
      ]
     },
     "metadata": {
      "needs_background": "light"
     },
     "output_type": "display_data"
    }
   ],
   "source": [
    "PrintHistMeanCheck(pd.DataFrame(df_begin.MeanCheck), xticks = 500, percentiles = [.25, .35, .4, .50, .65, .7, .8, .85, .9, .95])"
   ]
  },
  {
   "cell_type": "markdown",
   "id": "336adf63",
   "metadata": {},
   "source": [
    "Топ сегмент новичков - средний чек 4 200р и больше (Процентиль 85%)\n",
    "\n",
    "\n",
    "Хороший сегмент - средний чек 2 500 р и больше (Процентиль 65%)\n",
    "\n",
    "\n",
    "Средний сегмент - средний чек 1 200 и больше (Процентиль 40%)\n",
    "\n",
    "Нижний сегмент - до  1 200"
   ]
  },
  {
   "cell_type": "code",
   "execution_count": 108,
   "id": "8e697aa4",
   "metadata": {
    "scrolled": false
   },
   "outputs": [
    {
     "data": {
      "image/png": "[encoded data removed]",
      "text/plain": [
       "<Figure size 1440x720 with 1 Axes>"
      ]
     },
     "metadata": {
      "needs_background": "light"
     },
     "output_type": "display_data"
    }
   ],
   "source": [
    "PrintHistMeanCheck(pd.DataFrame(df_cust.MeanCheck), xticks = 500, percentiles = [.25, .35, .4, .50, .65, .7, .8, .85, .9, .95])"
   ]
  },
  {
   "cell_type": "markdown",
   "id": "4b9f0a1c",
   "metadata": {},
   "source": [
    "Топ сегмент за полтора года - средний чек 4 200р и больше (Процентиль 85%)\n",
    "\n",
    "\n",
    "Хороший сегмент - средний чек 2 500 р и больше (Процентиль 65%)\n",
    "\n",
    "\n",
    "Средний сегмент - средний чек 1 200 и больше (Процентиль 40%)\n",
    "\n",
    "Нижний сегмент - до  1 200"
   ]
  },
  {
   "cell_type": "code",
   "execution_count": 56,
   "id": "d33e4c4a",
   "metadata": {},
   "outputs": [
    {
     "data": {
      "text/plain": [
       "24821"
      ]
     },
     "execution_count": 56,
     "metadata": {},
     "output_type": "execute_result"
    }
   ],
   "source": [
    "gc.collect()"
   ]
  },
  {
   "cell_type": "markdown",
   "id": "224768c1",
   "metadata": {},
   "source": [
    "# Создание базы"
   ]
  },
  {
   "cell_type": "code",
   "execution_count": 111,
   "id": "f7ffade1",
   "metadata": {},
   "outputs": [],
   "source": [
    "def GetOrderSegBeginners(x):\n",
    "    if(x >= 3):\n",
    "        return 'TOP'\n",
    "    elif(x == 2):\n",
    "        return 'MIDDLE'\n",
    "    else:\n",
    "        return 'LOW'\n",
    "    \n",
    "    \n",
    "def GetOrderSeg(x):\n",
    "    if(x >= 5):\n",
    "        return 'TOP'\n",
    "    elif(x >= 3):\n",
    "        return 'GOOD'\n",
    "    elif(x == 2):\n",
    "        return 'MIDDLE'\n",
    "    else:\n",
    "        return 'LOW'\n",
    "    \n",
    "    \n",
    "    \n",
    " \n",
    "# Топ сегмент новичков - средний чек 4 200р и больше (Процентиль 85%)\n",
    "# Хороший сегмент - средний чек 2 500 р и больше (Процентиль 65%)\n",
    "# Средний сегмент - средний чек 1 200 и больше (Процентиль 40%)\n",
    "# Нижний сегмент - до  1 200\n",
    "\n",
    "def GetMeanCheckSeg(x):\n",
    "    if(x >= 4200):\n",
    "        return 'TOP'\n",
    "    elif(x >= 2500):\n",
    "        return 'GOOD'\n",
    "    elif(x >= 1200):\n",
    "        return 'MIDDLE'\n",
    "    else:\n",
    "        return 'LOW'\n",
    "    \n"
   ]
  },
  {
   "cell_type": "code",
   "execution_count": 112,
   "id": "d71e06dd",
   "metadata": {},
   "outputs": [
    {
     "data": {
      "application/vnd.jupyter.widget-view+json": {
       "model_id": "",
       "version_major": 2,
       "version_minor": 0
      },
      "text/plain": [
       "Dask Apply:   0%|          | 0/8 [00:00<?, ?it/s]"
      ]
     },
     "metadata": {},
     "output_type": "display_data"
    },
    {
     "data": {
      "application/vnd.jupyter.widget-view+json": {
       "model_id": "0a2dbfcc2710459d956c2ab6f835691a",
       "version_major": 2,
       "version_minor": 0
      },
      "text/plain": [
       "Dask Apply:   0%|          | 0/8 [00:00<?, ?it/s]"
      ]
     },
     "metadata": {},
     "output_type": "display_data"
    },
    {
     "data": {
      "text/plain": [
       "<bound method NDFrame.describe of          CURDISCOUNTCARDTYPE CURDISCOUNTCARDID  Orders    MeanCheck  Beginner  \\\n",
       "0                         05          10002688       2   718.465000         0   \n",
       "1                         05          10254420       1  4399.500000         0   \n",
       "2                         05          10449951       2  2556.000000         0   \n",
       "3                         05          10468861       4   933.600006         0   \n",
       "4                         05          10509415       2  2621.700104         0   \n",
       "...                      ...               ...     ...          ...       ...   \n",
       "11793651                  04          07531052       6   642.466667         0   \n",
       "11793652                  05          09953502       3  3762.000000         0   \n",
       "11793653                  04          12284407       1   857.000000         0   \n",
       "11793654                  08          27976644       2   953.900009         0   \n",
       "11793655                  04          05587021      13  1285.958455         0   \n",
       "\n",
       "         OrderSeg MeanCheckSeg  \n",
       "0          MIDDLE          LOW  \n",
       "1             LOW          TOP  \n",
       "2          MIDDLE         GOOD  \n",
       "3            GOOD          LOW  \n",
       "4          MIDDLE         GOOD  \n",
       "...           ...          ...  \n",
       "11793651      TOP          LOW  \n",
       "11793652     GOOD         GOOD  \n",
       "11793653      LOW          LOW  \n",
       "11793654   MIDDLE          LOW  \n",
       "11793655      TOP       MIDDLE  \n",
       "\n",
       "[11557389 rows x 7 columns]>"
      ]
     },
     "execution_count": 112,
     "metadata": {},
     "output_type": "execute_result"
    }
   ],
   "source": [
    "df_cust['Beginner'] = 0\n",
    "df_cust['OrderSeg'] = df_cust.swifter.apply(lambda x: GetOrderSeg(x.Orders), axis = 1)\n",
    "df_cust['MeanCheckSeg'] = df_cust.swifter.apply(lambda x: GetMeanCheckSeg(x.MeanCheck), axis = 1)\n"
   ]
  },
  {
   "cell_type": "code",
   "execution_count": 114,
   "id": "8543bd31",
   "metadata": {},
   "outputs": [
    {
     "data": {
      "text/html": [
       "<div>\n",
       "<style scoped>\n",
       "    .dataframe tbody tr th:only-of-type {\n",
       "        vertical-align: middle;\n",
       "    }\n",
       "\n",
       "    .dataframe tbody tr th {\n",
       "        vertical-align: top;\n",
       "    }\n",
       "\n",
       "    .dataframe thead th {\n",
       "        text-align: right;\n",
       "    }\n",
       "</style>\n",
       "<table border=\"1\" class=\"dataframe\">\n",
       "  <thead>\n",
       "    <tr style=\"text-align: right;\">\n",
       "      <th></th>\n",
       "      <th>Orders</th>\n",
       "      <th>MeanCheck</th>\n",
       "      <th>Beginner</th>\n",
       "    </tr>\n",
       "  </thead>\n",
       "  <tbody>\n",
       "    <tr>\n",
       "      <th>count</th>\n",
       "      <td>1.155739e+07</td>\n",
       "      <td>1.155739e+07</td>\n",
       "      <td>11557389.0</td>\n",
       "    </tr>\n",
       "    <tr>\n",
       "      <th>mean</th>\n",
       "      <td>2.649029e+00</td>\n",
       "      <td>2.385571e+03</td>\n",
       "      <td>0.0</td>\n",
       "    </tr>\n",
       "    <tr>\n",
       "      <th>std</th>\n",
       "      <td>2.485425e+00</td>\n",
       "      <td>1.929700e+03</td>\n",
       "      <td>0.0</td>\n",
       "    </tr>\n",
       "    <tr>\n",
       "      <th>min</th>\n",
       "      <td>1.000000e+00</td>\n",
       "      <td>0.000000e+00</td>\n",
       "      <td>0.0</td>\n",
       "    </tr>\n",
       "    <tr>\n",
       "      <th>25%</th>\n",
       "      <td>1.000000e+00</td>\n",
       "      <td>9.002500e+02</td>\n",
       "      <td>0.0</td>\n",
       "    </tr>\n",
       "    <tr>\n",
       "      <th>50%</th>\n",
       "      <td>2.000000e+00</td>\n",
       "      <td>1.916000e+03</td>\n",
       "      <td>0.0</td>\n",
       "    </tr>\n",
       "    <tr>\n",
       "      <th>75%</th>\n",
       "      <td>3.000000e+00</td>\n",
       "      <td>3.325000e+03</td>\n",
       "      <td>0.0</td>\n",
       "    </tr>\n",
       "    <tr>\n",
       "      <th>max</th>\n",
       "      <td>1.600000e+01</td>\n",
       "      <td>1.110310e+04</td>\n",
       "      <td>0.0</td>\n",
       "    </tr>\n",
       "  </tbody>\n",
       "</table>\n",
       "</div>"
      ],
      "text/plain": [
       "             Orders     MeanCheck    Beginner\n",
       "count  1.155739e+07  1.155739e+07  11557389.0\n",
       "mean   2.649029e+00  2.385571e+03         0.0\n",
       "std    2.485425e+00  1.929700e+03         0.0\n",
       "min    1.000000e+00  0.000000e+00         0.0\n",
       "25%    1.000000e+00  9.002500e+02         0.0\n",
       "50%    2.000000e+00  1.916000e+03         0.0\n",
       "75%    3.000000e+00  3.325000e+03         0.0\n",
       "max    1.600000e+01  1.110310e+04         0.0"
      ]
     },
     "execution_count": 114,
     "metadata": {},
     "output_type": "execute_result"
    }
   ],
   "source": [
    "df_cust.describe()"
   ]
  },
  {
   "cell_type": "code",
   "execution_count": 115,
   "id": "208e626d",
   "metadata": {},
   "outputs": [
    {
     "data": {
      "text/html": [
       "<div>\n",
       "<style scoped>\n",
       "    .dataframe tbody tr th:only-of-type {\n",
       "        vertical-align: middle;\n",
       "    }\n",
       "\n",
       "    .dataframe tbody tr th {\n",
       "        vertical-align: top;\n",
       "    }\n",
       "\n",
       "    .dataframe thead th {\n",
       "        text-align: right;\n",
       "    }\n",
       "</style>\n",
       "<table border=\"1\" class=\"dataframe\">\n",
       "  <thead>\n",
       "    <tr style=\"text-align: right;\">\n",
       "      <th></th>\n",
       "      <th>OrderSeg</th>\n",
       "      <th>MeanCheckSeg</th>\n",
       "    </tr>\n",
       "  </thead>\n",
       "  <tbody>\n",
       "    <tr>\n",
       "      <th>count</th>\n",
       "      <td>11557389</td>\n",
       "      <td>11557389</td>\n",
       "    </tr>\n",
       "    <tr>\n",
       "      <th>unique</th>\n",
       "      <td>4</td>\n",
       "      <td>4</td>\n",
       "    </tr>\n",
       "    <tr>\n",
       "      <th>top</th>\n",
       "      <td>LOW</td>\n",
       "      <td>LOW</td>\n",
       "    </tr>\n",
       "    <tr>\n",
       "      <th>freq</th>\n",
       "      <td>5271391</td>\n",
       "      <td>3855951</td>\n",
       "    </tr>\n",
       "  </tbody>\n",
       "</table>\n",
       "</div>"
      ],
      "text/plain": [
       "        OrderSeg MeanCheckSeg\n",
       "count   11557389     11557389\n",
       "unique         4            4\n",
       "top          LOW          LOW\n",
       "freq     5271391      3855951"
      ]
     },
     "execution_count": 115,
     "metadata": {},
     "output_type": "execute_result"
    }
   ],
   "source": [
    "df_cust[['OrderSeg','MeanCheckSeg']].describe()"
   ]
  },
  {
   "cell_type": "code",
   "execution_count": 113,
   "id": "6da53199",
   "metadata": {},
   "outputs": [
    {
     "data": {
      "application/vnd.jupyter.widget-view+json": {
       "model_id": "06124842d1274969bf16dc72d5908d4d",
       "version_major": 2,
       "version_minor": 0
      },
      "text/plain": [
       "Dask Apply:   0%|          | 0/8 [00:00<?, ?it/s]"
      ]
     },
     "metadata": {},
     "output_type": "display_data"
    },
    {
     "data": {
      "application/vnd.jupyter.widget-view+json": {
       "model_id": "33ffde2240e646c5a0d81fd460fdc3a3",
       "version_major": 2,
       "version_minor": 0
      },
      "text/plain": [
       "Dask Apply:   0%|          | 0/8 [00:00<?, ?it/s]"
      ]
     },
     "metadata": {},
     "output_type": "display_data"
    },
    {
     "data": {
      "text/plain": [
       "<bound method NDFrame.describe of         CURDISCOUNTCARDTYPE CURDISCOUNTCARDID  Orders    MeanCheck  Beginner  \\\n",
       "0                        08          30275757       1  3539.399902         1   \n",
       "1                        08          30277553       1   399.000000         1   \n",
       "2                        08          30278001       1   389.350006         1   \n",
       "3                        08          30285573       1  2503.000000         1   \n",
       "4                        08          30319068       1   298.000000         1   \n",
       "...                     ...               ...     ...          ...       ...   \n",
       "1507661                  04          15217717       1  5124.500000         1   \n",
       "1507662                  04          15367261       1   848.500000         1   \n",
       "1507663                  04          14830736       2   803.500000         1   \n",
       "1507664                  04          15473358       1  2661.750000         1   \n",
       "1507665                  04          15550459       1   299.000000         1   \n",
       "\n",
       "        OrderSeg MeanCheckSeg  \n",
       "0         MIDDLE          LOW  \n",
       "1            LOW          TOP  \n",
       "2         MIDDLE         GOOD  \n",
       "3            TOP          LOW  \n",
       "4         MIDDLE         GOOD  \n",
       "...          ...          ...  \n",
       "1507661      TOP          TOP  \n",
       "1507662      LOW         GOOD  \n",
       "1507663      LOW       MIDDLE  \n",
       "1507664   MIDDLE       MIDDLE  \n",
       "1507665      TOP       MIDDLE  \n",
       "\n",
       "[1478554 rows x 7 columns]>"
      ]
     },
     "execution_count": 113,
     "metadata": {},
     "output_type": "execute_result"
    }
   ],
   "source": [
    "df_begin['Beginner'] = 1\n",
    "df_begin['OrderSeg'] = df_cust.swifter.apply(lambda x: GetOrderSegBeginners(x.Orders), axis = 1)\n",
    "df_begin['MeanCheckSeg'] = df_cust.swifter.apply(lambda x: GetMeanCheckSeg(x.MeanCheck), axis = 1)\n",
    "df_begin.describe"
   ]
  },
  {
   "cell_type": "code",
   "execution_count": 116,
   "id": "a9d07796",
   "metadata": {},
   "outputs": [
    {
     "data": {
      "text/html": [
       "<div>\n",
       "<style scoped>\n",
       "    .dataframe tbody tr th:only-of-type {\n",
       "        vertical-align: middle;\n",
       "    }\n",
       "\n",
       "    .dataframe tbody tr th {\n",
       "        vertical-align: top;\n",
       "    }\n",
       "\n",
       "    .dataframe thead th {\n",
       "        text-align: right;\n",
       "    }\n",
       "</style>\n",
       "<table border=\"1\" class=\"dataframe\">\n",
       "  <thead>\n",
       "    <tr style=\"text-align: right;\">\n",
       "      <th></th>\n",
       "      <th>Orders</th>\n",
       "      <th>MeanCheck</th>\n",
       "      <th>Beginner</th>\n",
       "    </tr>\n",
       "  </thead>\n",
       "  <tbody>\n",
       "    <tr>\n",
       "      <th>count</th>\n",
       "      <td>1.478554e+06</td>\n",
       "      <td>1.478554e+06</td>\n",
       "      <td>1478554.0</td>\n",
       "    </tr>\n",
       "    <tr>\n",
       "      <th>mean</th>\n",
       "      <td>1.742368e+00</td>\n",
       "      <td>2.241232e+03</td>\n",
       "      <td>1.0</td>\n",
       "    </tr>\n",
       "    <tr>\n",
       "      <th>std</th>\n",
       "      <td>1.605588e+00</td>\n",
       "      <td>2.060765e+03</td>\n",
       "      <td>0.0</td>\n",
       "    </tr>\n",
       "    <tr>\n",
       "      <th>min</th>\n",
       "      <td>1.000000e+00</td>\n",
       "      <td>0.000000e+00</td>\n",
       "      <td>1.0</td>\n",
       "    </tr>\n",
       "    <tr>\n",
       "      <th>25%</th>\n",
       "      <td>1.000000e+00</td>\n",
       "      <td>6.790000e+02</td>\n",
       "      <td>1.0</td>\n",
       "    </tr>\n",
       "    <tr>\n",
       "      <th>50%</th>\n",
       "      <td>1.000000e+00</td>\n",
       "      <td>1.574300e+03</td>\n",
       "      <td>1.0</td>\n",
       "    </tr>\n",
       "    <tr>\n",
       "      <th>75%</th>\n",
       "      <td>2.000000e+00</td>\n",
       "      <td>3.209200e+03</td>\n",
       "      <td>1.0</td>\n",
       "    </tr>\n",
       "    <tr>\n",
       "      <th>max</th>\n",
       "      <td>1.300000e+01</td>\n",
       "      <td>1.229240e+04</td>\n",
       "      <td>1.0</td>\n",
       "    </tr>\n",
       "  </tbody>\n",
       "</table>\n",
       "</div>"
      ],
      "text/plain": [
       "             Orders     MeanCheck   Beginner\n",
       "count  1.478554e+06  1.478554e+06  1478554.0\n",
       "mean   1.742368e+00  2.241232e+03        1.0\n",
       "std    1.605588e+00  2.060765e+03        0.0\n",
       "min    1.000000e+00  0.000000e+00        1.0\n",
       "25%    1.000000e+00  6.790000e+02        1.0\n",
       "50%    1.000000e+00  1.574300e+03        1.0\n",
       "75%    2.000000e+00  3.209200e+03        1.0\n",
       "max    1.300000e+01  1.229240e+04        1.0"
      ]
     },
     "execution_count": 116,
     "metadata": {},
     "output_type": "execute_result"
    }
   ],
   "source": [
    "df_begin.describe()"
   ]
  },
  {
   "cell_type": "code",
   "execution_count": 117,
   "id": "127aea7a",
   "metadata": {},
   "outputs": [
    {
     "data": {
      "text/html": [
       "<div>\n",
       "<style scoped>\n",
       "    .dataframe tbody tr th:only-of-type {\n",
       "        vertical-align: middle;\n",
       "    }\n",
       "\n",
       "    .dataframe tbody tr th {\n",
       "        vertical-align: top;\n",
       "    }\n",
       "\n",
       "    .dataframe thead th {\n",
       "        text-align: right;\n",
       "    }\n",
       "</style>\n",
       "<table border=\"1\" class=\"dataframe\">\n",
       "  <thead>\n",
       "    <tr style=\"text-align: right;\">\n",
       "      <th></th>\n",
       "      <th>OrderSeg</th>\n",
       "      <th>MeanCheckSeg</th>\n",
       "    </tr>\n",
       "  </thead>\n",
       "  <tbody>\n",
       "    <tr>\n",
       "      <th>count</th>\n",
       "      <td>1448884</td>\n",
       "      <td>1448884</td>\n",
       "    </tr>\n",
       "    <tr>\n",
       "      <th>unique</th>\n",
       "      <td>3</td>\n",
       "      <td>4</td>\n",
       "    </tr>\n",
       "    <tr>\n",
       "      <th>top</th>\n",
       "      <td>LOW</td>\n",
       "      <td>LOW</td>\n",
       "    </tr>\n",
       "    <tr>\n",
       "      <th>freq</th>\n",
       "      <td>660810</td>\n",
       "      <td>482300</td>\n",
       "    </tr>\n",
       "  </tbody>\n",
       "</table>\n",
       "</div>"
      ],
      "text/plain": [
       "       OrderSeg MeanCheckSeg\n",
       "count   1448884      1448884\n",
       "unique        3            4\n",
       "top         LOW          LOW\n",
       "freq     660810       482300"
      ]
     },
     "execution_count": 117,
     "metadata": {},
     "output_type": "execute_result"
    }
   ],
   "source": [
    "df_begin[['OrderSeg','MeanCheckSeg']].describe()"
   ]
  },
  {
   "cell_type": "code",
   "execution_count": 118,
   "id": "9b59a954",
   "metadata": {},
   "outputs": [],
   "source": [
    "df_merge = pd.concat([df_begin, df_cust])\n"
   ]
  },
  {
   "cell_type": "code",
   "execution_count": 119,
   "id": "d9306b38",
   "metadata": {},
   "outputs": [
    {
     "data": {
      "text/html": [
       "<div>\n",
       "<style scoped>\n",
       "    .dataframe tbody tr th:only-of-type {\n",
       "        vertical-align: middle;\n",
       "    }\n",
       "\n",
       "    .dataframe tbody tr th {\n",
       "        vertical-align: top;\n",
       "    }\n",
       "\n",
       "    .dataframe thead th {\n",
       "        text-align: right;\n",
       "    }\n",
       "</style>\n",
       "<table border=\"1\" class=\"dataframe\">\n",
       "  <thead>\n",
       "    <tr style=\"text-align: right;\">\n",
       "      <th></th>\n",
       "      <th>Orders</th>\n",
       "      <th>MeanCheck</th>\n",
       "      <th>Beginner</th>\n",
       "    </tr>\n",
       "  </thead>\n",
       "  <tbody>\n",
       "    <tr>\n",
       "      <th>count</th>\n",
       "      <td>1.303594e+07</td>\n",
       "      <td>1.303594e+07</td>\n",
       "      <td>1.303594e+07</td>\n",
       "    </tr>\n",
       "    <tr>\n",
       "      <th>mean</th>\n",
       "      <td>2.546194e+00</td>\n",
       "      <td>2.369200e+03</td>\n",
       "      <td>1.134213e-01</td>\n",
       "    </tr>\n",
       "    <tr>\n",
       "      <th>std</th>\n",
       "      <td>2.419038e+00</td>\n",
       "      <td>1.945548e+03</td>\n",
       "      <td>3.171071e-01</td>\n",
       "    </tr>\n",
       "    <tr>\n",
       "      <th>min</th>\n",
       "      <td>1.000000e+00</td>\n",
       "      <td>0.000000e+00</td>\n",
       "      <td>0.000000e+00</td>\n",
       "    </tr>\n",
       "    <tr>\n",
       "      <th>25%</th>\n",
       "      <td>1.000000e+00</td>\n",
       "      <td>8.697000e+02</td>\n",
       "      <td>0.000000e+00</td>\n",
       "    </tr>\n",
       "    <tr>\n",
       "      <th>50%</th>\n",
       "      <td>2.000000e+00</td>\n",
       "      <td>1.880983e+03</td>\n",
       "      <td>0.000000e+00</td>\n",
       "    </tr>\n",
       "    <tr>\n",
       "      <th>75%</th>\n",
       "      <td>3.000000e+00</td>\n",
       "      <td>3.313750e+03</td>\n",
       "      <td>0.000000e+00</td>\n",
       "    </tr>\n",
       "    <tr>\n",
       "      <th>max</th>\n",
       "      <td>1.600000e+01</td>\n",
       "      <td>1.229240e+04</td>\n",
       "      <td>1.000000e+00</td>\n",
       "    </tr>\n",
       "  </tbody>\n",
       "</table>\n",
       "</div>"
      ],
      "text/plain": [
       "             Orders     MeanCheck      Beginner\n",
       "count  1.303594e+07  1.303594e+07  1.303594e+07\n",
       "mean   2.546194e+00  2.369200e+03  1.134213e-01\n",
       "std    2.419038e+00  1.945548e+03  3.171071e-01\n",
       "min    1.000000e+00  0.000000e+00  0.000000e+00\n",
       "25%    1.000000e+00  8.697000e+02  0.000000e+00\n",
       "50%    2.000000e+00  1.880983e+03  0.000000e+00\n",
       "75%    3.000000e+00  3.313750e+03  0.000000e+00\n",
       "max    1.600000e+01  1.229240e+04  1.000000e+00"
      ]
     },
     "execution_count": 119,
     "metadata": {},
     "output_type": "execute_result"
    }
   ],
   "source": [
    "df_merge.describe()"
   ]
  },
  {
   "cell_type": "code",
   "execution_count": 120,
   "id": "799620af",
   "metadata": {},
   "outputs": [
    {
     "data": {
      "text/html": [
       "<div>\n",
       "<style scoped>\n",
       "    .dataframe tbody tr th:only-of-type {\n",
       "        vertical-align: middle;\n",
       "    }\n",
       "\n",
       "    .dataframe tbody tr th {\n",
       "        vertical-align: top;\n",
       "    }\n",
       "\n",
       "    .dataframe thead th {\n",
       "        text-align: right;\n",
       "    }\n",
       "</style>\n",
       "<table border=\"1\" class=\"dataframe\">\n",
       "  <thead>\n",
       "    <tr style=\"text-align: right;\">\n",
       "      <th></th>\n",
       "      <th>OrderSeg</th>\n",
       "      <th>MeanCheckSeg</th>\n",
       "    </tr>\n",
       "  </thead>\n",
       "  <tbody>\n",
       "    <tr>\n",
       "      <th>count</th>\n",
       "      <td>13006273</td>\n",
       "      <td>13006273</td>\n",
       "    </tr>\n",
       "    <tr>\n",
       "      <th>unique</th>\n",
       "      <td>4</td>\n",
       "      <td>4</td>\n",
       "    </tr>\n",
       "    <tr>\n",
       "      <th>top</th>\n",
       "      <td>LOW</td>\n",
       "      <td>LOW</td>\n",
       "    </tr>\n",
       "    <tr>\n",
       "      <th>freq</th>\n",
       "      <td>5932201</td>\n",
       "      <td>4338251</td>\n",
       "    </tr>\n",
       "  </tbody>\n",
       "</table>\n",
       "</div>"
      ],
      "text/plain": [
       "        OrderSeg MeanCheckSeg\n",
       "count   13006273     13006273\n",
       "unique         4            4\n",
       "top          LOW          LOW\n",
       "freq     5932201      4338251"
      ]
     },
     "execution_count": 120,
     "metadata": {},
     "output_type": "execute_result"
    }
   ],
   "source": [
    "df_merge[['OrderSeg','MeanCheckSeg']].describe()"
   ]
  },
  {
   "cell_type": "code",
   "execution_count": 121,
   "id": "859dbf6f",
   "metadata": {},
   "outputs": [],
   "source": [
    "df_merge.to_csv('NewSegCustomers.csv', index = False)"
   ]
  }
 ],
 "metadata": {
  "kernelspec": {
   "display_name": "Python 3 (ipykernel)",
   "language": "python",
   "name": "python3"
  },
  "language_info": {
   "codemirror_mode": {
    "name": "ipython",
    "version": 3
   },
   "file_extension": ".py",
   "mimetype": "text/x-python",
   "name": "python",
   "nbconvert_exporter": "python",
   "pygments_lexer": "ipython3",
   "version": "3.9.7"
  }
 },
 "nbformat": 4,
 "nbformat_minor": 5
}
