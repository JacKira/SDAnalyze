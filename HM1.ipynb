{
 "cells": [
  {
   "cell_type": "code",
   "execution_count": 1,
   "id": "bf6b7f68",
   "metadata": {
    "id": "bf6b7f68"
   },
   "outputs": [],
   "source": [
    "import zipfile as zp\n",
    "import numpy as np\n",
    "import pandas as pd\n",
    "import re\n",
    "from sklearn.linear_model import LogisticRegression \n",
    "import ipyparallel as ipp\n",
    "import gc"
   ]
  },
  {
   "cell_type": "code",
   "execution_count": 2,
   "id": "e2faffab",
   "metadata": {
    "colab": {
     "base_uri": "https://localhost:8080/",
     "height": 455
    },
    "id": "e2faffab",
    "outputId": "de3a72f7-0c25-479a-bb1c-a750d3722e34"
   },
   "outputs": [
    {
     "data": {
      "text/html": [
       "<div>\n",
       "<style scoped>\n",
       "    .dataframe tbody tr th:only-of-type {\n",
       "        vertical-align: middle;\n",
       "    }\n",
       "\n",
       "    .dataframe tbody tr th {\n",
       "        vertical-align: top;\n",
       "    }\n",
       "\n",
       "    .dataframe thead th {\n",
       "        text-align: right;\n",
       "    }\n",
       "</style>\n",
       "<table border=\"1\" class=\"dataframe\">\n",
       "  <thead>\n",
       "    <tr style=\"text-align: right;\">\n",
       "      <th></th>\n",
       "      <th>visits</th>\n",
       "    </tr>\n",
       "    <tr>\n",
       "      <th>id</th>\n",
       "      <th></th>\n",
       "    </tr>\n",
       "  </thead>\n",
       "  <tbody>\n",
       "    <tr>\n",
       "      <th>1</th>\n",
       "      <td>30 84 126 135 137 179 242 342 426 456 460 462...</td>\n",
       "    </tr>\n",
       "    <tr>\n",
       "      <th>2</th>\n",
       "      <td>24 53 75 134 158 192 194 211 213 238 251 305 ...</td>\n",
       "    </tr>\n",
       "    <tr>\n",
       "      <th>3</th>\n",
       "      <td>51 143 173 257 446 491 504 510 559 616 719 73...</td>\n",
       "    </tr>\n",
       "    <tr>\n",
       "      <th>4</th>\n",
       "      <td>1 20 22 92 124 149 211 335 387 390 406 460 48...</td>\n",
       "    </tr>\n",
       "    <tr>\n",
       "      <th>5</th>\n",
       "      <td>34 51 56 106 110 121 163 233 266 275 345 359 ...</td>\n",
       "    </tr>\n",
       "    <tr>\n",
       "      <th>...</th>\n",
       "      <td>...</td>\n",
       "    </tr>\n",
       "    <tr>\n",
       "      <th>299996</th>\n",
       "      <td>6 12 15 30 33 48 49 50 55 56 70 74 76 83 84 9...</td>\n",
       "    </tr>\n",
       "    <tr>\n",
       "      <th>299997</th>\n",
       "      <td>4 7 12 18 19 35 41 53 55 60 75 77 81 82 91 95...</td>\n",
       "    </tr>\n",
       "    <tr>\n",
       "      <th>299998</th>\n",
       "      <td>1 9 15 17 29 31 42 49 62 74 85 105 109 113 11...</td>\n",
       "    </tr>\n",
       "    <tr>\n",
       "      <th>299999</th>\n",
       "      <td>2 4 6 14 18 19 25 32 34 39 40 42 48 49 60 62 ...</td>\n",
       "    </tr>\n",
       "    <tr>\n",
       "      <th>300000</th>\n",
       "      <td>1 6 7 13 18 21 22 31 33 35 40 41 54 55 56 57 ...</td>\n",
       "    </tr>\n",
       "  </tbody>\n",
       "</table>\n",
       "<p>300000 rows × 1 columns</p>\n",
       "</div>"
      ],
      "text/plain": [
       "                                                   visits\n",
       "id                                                       \n",
       "1        30 84 126 135 137 179 242 342 426 456 460 462...\n",
       "2        24 53 75 134 158 192 194 211 213 238 251 305 ...\n",
       "3        51 143 173 257 446 491 504 510 559 616 719 73...\n",
       "4        1 20 22 92 124 149 211 335 387 390 406 460 48...\n",
       "5        34 51 56 106 110 121 163 233 266 275 345 359 ...\n",
       "...                                                   ...\n",
       "299996   6 12 15 30 33 48 49 50 55 56 70 74 76 83 84 9...\n",
       "299997   4 7 12 18 19 35 41 53 55 60 75 77 81 82 91 95...\n",
       "299998   1 9 15 17 29 31 42 49 62 74 85 105 109 113 11...\n",
       "299999   2 4 6 14 18 19 25 32 34 39 40 42 48 49 60 62 ...\n",
       "300000   1 6 7 13 18 21 22 31 33 35 40 41 54 55 56 57 ...\n",
       "\n",
       "[300000 rows x 1 columns]"
      ]
     },
     "execution_count": 2,
     "metadata": {},
     "output_type": "execute_result"
    }
   ],
   "source": [
    "df = pd.read_csv('train.zip', index_col = 0)\n",
    "df"
   ]
  },
  {
   "cell_type": "markdown",
   "id": "4a0204c3",
   "metadata": {
    "id": "4a0204c3"
   },
   "source": [
    "# Обработка всего сета"
   ]
  },
  {
   "cell_type": "code",
   "execution_count": 8,
   "id": "b8618de4",
   "metadata": {},
   "outputs": [
    {
     "data": {
      "text/html": [
       "<div>\n",
       "<style scoped>\n",
       "    .dataframe tbody tr th:only-of-type {\n",
       "        vertical-align: middle;\n",
       "    }\n",
       "\n",
       "    .dataframe tbody tr th {\n",
       "        vertical-align: top;\n",
       "    }\n",
       "\n",
       "    .dataframe thead th {\n",
       "        text-align: right;\n",
       "    }\n",
       "</style>\n",
       "<table border=\"1\" class=\"dataframe\">\n",
       "  <thead>\n",
       "    <tr style=\"text-align: right;\">\n",
       "      <th></th>\n",
       "      <th>Days</th>\n",
       "    </tr>\n",
       "  </thead>\n",
       "  <tbody>\n",
       "    <tr>\n",
       "      <th>0</th>\n",
       "      <td>0</td>\n",
       "    </tr>\n",
       "    <tr>\n",
       "      <th>1</th>\n",
       "      <td>0</td>\n",
       "    </tr>\n",
       "    <tr>\n",
       "      <th>2</th>\n",
       "      <td>1</td>\n",
       "    </tr>\n",
       "  </tbody>\n",
       "</table>\n",
       "</div>"
      ],
      "text/plain": [
       "   Days\n",
       "0     0\n",
       "1     0\n",
       "2     1"
      ]
     },
     "execution_count": 8,
     "metadata": {},
     "output_type": "execute_result"
    }
   ],
   "source": [
    "id_i_visit = pd.DataFrame({'Days': [(1 if i in days else 0) for i in range(3) ]})\n",
    "id_i_visit"
   ]
  },
  {
   "cell_type": "code",
   "execution_count": 14,
   "id": "e92bf464",
   "metadata": {},
   "outputs": [
    {
     "data": {
      "text/plain": [
       "visits     30 84 126 135 137 179 242 342 426 456 460 462...\n",
       "Name: 1, dtype: object"
      ]
     },
     "execution_count": 14,
     "metadata": {},
     "output_type": "execute_result"
    }
   ],
   "source": []
  },
  {
   "cell_type": "code",
   "execution_count": 155,
   "id": "d55d8a46",
   "metadata": {},
   "outputs": [
    {
     "name": "stdout",
     "output_type": "stream",
     "text": [
      "8\n"
     ]
    }
   ],
   "source": [
    "client = ipp.Client()\n",
    "print(len(client))"
   ]
  },
  {
   "cell_type": "code",
   "execution_count": 156,
   "id": "e3814fd2",
   "metadata": {},
   "outputs": [],
   "source": [
    "lbview = client.load_balanced_view()"
   ]
  },
  {
   "cell_type": "code",
   "execution_count": 157,
   "id": "71b079aa",
   "metadata": {
    "id": "71b079aa"
   },
   "outputs": [],
   "source": [
    "def PreProcessing(df):\n",
    "    import pandas as pd\n",
    "    import gc\n",
    "    days = list(map(int, (df.str.split(' ')[0])[1:]))\n",
    "    id_i_visits = [(1 if i in days else 0) for i in range(1, 1099 + 1)]\n",
    "    gc.collect()\n",
    "    return id_i_visits"
   ]
  },
  {
   "cell_type": "code",
   "execution_count": null,
   "id": "2851807a",
   "metadata": {
    "colab": {
     "base_uri": "https://localhost:8080/",
     "height": 71
    },
    "id": "2851807a",
    "outputId": "15a2c323-83cd-4b2f-ea81-22a7e24b4fba"
   },
   "outputs": [],
   "source": [
    "%%time\n",
    "gc.collect()\n",
    "import csv\n",
    "res = {}\n",
    "for i in df.index.tolist():\n",
    "    res_ = lbview.apply(PreProcessing, df.loc[i])\n",
    "    res[i] = res_\n",
    "client.wait()"
   ]
  },
  {
   "cell_type": "code",
   "execution_count": null,
   "id": "4b56f07d",
   "metadata": {},
   "outputs": [],
   "source": [
    "a = min(df.index.tolist())\n",
    "b = max(df.index.tolist()) +1"
   ]
  },
  {
   "cell_type": "code",
   "execution_count": null,
   "id": "5b2bba70",
   "metadata": {},
   "outputs": [],
   "source": [
    "df_afterProc = pd.DataFrame({'id' : df.index.tolist(), \n",
    "                             'Days' : [[0] * 1099] * (b - 1)}).set_index('id')\n",
    "df_afterProc"
   ]
  },
  {
   "cell_type": "code",
   "execution_count": null,
   "id": "e9c4d54d",
   "metadata": {
    "scrolled": true
   },
   "outputs": [],
   "source": [
    "for i in df_afterProc.index.tolsit():\n",
    "    df_afterProc.loc[1].Days =  res[1].get()"
   ]
  },
  {
   "cell_type": "code",
   "execution_count": null,
   "id": "d2f44836",
   "metadata": {},
   "outputs": [],
   "source": [
    "df_afterProc.to_csv('AfterProcessingData.csv')"
   ]
  },
  {
   "cell_type": "code",
   "execution_count": 164,
   "id": "434cce31",
   "metadata": {},
   "outputs": [],
   "source": [
    "\n",
    "df_afterProc.loc[1].Days =  res[1].get()"
   ]
  },
  {
   "cell_type": "code",
   "execution_count": 165,
   "id": "ae626747",
   "metadata": {},
   "outputs": [
    {
     "data": {
      "text/html": [
       "<div>\n",
       "<style scoped>\n",
       "    .dataframe tbody tr th:only-of-type {\n",
       "        vertical-align: middle;\n",
       "    }\n",
       "\n",
       "    .dataframe tbody tr th {\n",
       "        vertical-align: top;\n",
       "    }\n",
       "\n",
       "    .dataframe thead th {\n",
       "        text-align: right;\n",
       "    }\n",
       "</style>\n",
       "<table border=\"1\" class=\"dataframe\">\n",
       "  <thead>\n",
       "    <tr style=\"text-align: right;\">\n",
       "      <th></th>\n",
       "      <th>Days</th>\n",
       "    </tr>\n",
       "    <tr>\n",
       "      <th>id</th>\n",
       "      <th></th>\n",
       "    </tr>\n",
       "  </thead>\n",
       "  <tbody>\n",
       "    <tr>\n",
       "      <th>1</th>\n",
       "      <td>[0, 0, 0, 0, 0, 0, 0, 0, 0, 0, 0, 0, 0, 0, 0, ...</td>\n",
       "    </tr>\n",
       "    <tr>\n",
       "      <th>2</th>\n",
       "      <td>[0, 0, 0, 0, 0, 0, 0, 0, 0, 0, 0, 0, 0, 0, 0, ...</td>\n",
       "    </tr>\n",
       "    <tr>\n",
       "      <th>3</th>\n",
       "      <td>[0, 0, 0, 0, 0, 0, 0, 0, 0, 0, 0, 0, 0, 0, 0, ...</td>\n",
       "    </tr>\n",
       "    <tr>\n",
       "      <th>4</th>\n",
       "      <td>[0, 0, 0, 0, 0, 0, 0, 0, 0, 0, 0, 0, 0, 0, 0, ...</td>\n",
       "    </tr>\n",
       "    <tr>\n",
       "      <th>5</th>\n",
       "      <td>[0, 0, 0, 0, 0, 0, 0, 0, 0, 0, 0, 0, 0, 0, 0, ...</td>\n",
       "    </tr>\n",
       "    <tr>\n",
       "      <th>...</th>\n",
       "      <td>...</td>\n",
       "    </tr>\n",
       "    <tr>\n",
       "      <th>299996</th>\n",
       "      <td>[0, 0, 0, 0, 0, 0, 0, 0, 0, 0, 0, 0, 0, 0, 0, ...</td>\n",
       "    </tr>\n",
       "    <tr>\n",
       "      <th>299997</th>\n",
       "      <td>[0, 0, 0, 0, 0, 0, 0, 0, 0, 0, 0, 0, 0, 0, 0, ...</td>\n",
       "    </tr>\n",
       "    <tr>\n",
       "      <th>299998</th>\n",
       "      <td>[0, 0, 0, 0, 0, 0, 0, 0, 0, 0, 0, 0, 0, 0, 0, ...</td>\n",
       "    </tr>\n",
       "    <tr>\n",
       "      <th>299999</th>\n",
       "      <td>[0, 0, 0, 0, 0, 0, 0, 0, 0, 0, 0, 0, 0, 0, 0, ...</td>\n",
       "    </tr>\n",
       "    <tr>\n",
       "      <th>300000</th>\n",
       "      <td>[0, 0, 0, 0, 0, 0, 0, 0, 0, 0, 0, 0, 0, 0, 0, ...</td>\n",
       "    </tr>\n",
       "  </tbody>\n",
       "</table>\n",
       "<p>300000 rows × 1 columns</p>\n",
       "</div>"
      ],
      "text/plain": [
       "                                                     Days\n",
       "id                                                       \n",
       "1       [0, 0, 0, 0, 0, 0, 0, 0, 0, 0, 0, 0, 0, 0, 0, ...\n",
       "2       [0, 0, 0, 0, 0, 0, 0, 0, 0, 0, 0, 0, 0, 0, 0, ...\n",
       "3       [0, 0, 0, 0, 0, 0, 0, 0, 0, 0, 0, 0, 0, 0, 0, ...\n",
       "4       [0, 0, 0, 0, 0, 0, 0, 0, 0, 0, 0, 0, 0, 0, 0, ...\n",
       "5       [0, 0, 0, 0, 0, 0, 0, 0, 0, 0, 0, 0, 0, 0, 0, ...\n",
       "...                                                   ...\n",
       "299996  [0, 0, 0, 0, 0, 0, 0, 0, 0, 0, 0, 0, 0, 0, 0, ...\n",
       "299997  [0, 0, 0, 0, 0, 0, 0, 0, 0, 0, 0, 0, 0, 0, 0, ...\n",
       "299998  [0, 0, 0, 0, 0, 0, 0, 0, 0, 0, 0, 0, 0, 0, 0, ...\n",
       "299999  [0, 0, 0, 0, 0, 0, 0, 0, 0, 0, 0, 0, 0, 0, 0, ...\n",
       "300000  [0, 0, 0, 0, 0, 0, 0, 0, 0, 0, 0, 0, 0, 0, 0, ...\n",
       "\n",
       "[300000 rows x 1 columns]"
      ]
     },
     "execution_count": 165,
     "metadata": {},
     "output_type": "execute_result"
    }
   ],
   "source": [
    "df_afterProc"
   ]
  },
  {
   "cell_type": "code",
   "execution_count": 166,
   "id": "00539e59",
   "metadata": {},
   "outputs": [
    {
     "data": {
      "text/plain": [
       "data\n",
       "0       1070\n",
       "1         29\n",
       "dtype: int64"
      ]
     },
     "execution_count": 166,
     "metadata": {},
     "output_type": "execute_result"
    }
   ],
   "source": [
    "pd.DataFrame({'data': df_afterProc.loc[1].Days}).value_counts()"
   ]
  },
  {
   "cell_type": "code",
   "execution_count": null,
   "id": "de9f9ff4",
   "metadata": {},
   "outputs": [],
   "source": []
  }
 ],
 "metadata": {
  "colab": {
   "collapsed_sections": [],
   "name": "HM1.ipynb",
   "provenance": []
  },
  "kernelspec": {
   "display_name": "Python 3",
   "language": "python",
   "name": "python3"
  },
  "language_info": {
   "codemirror_mode": {
    "name": "ipython",
    "version": 3
   },
   "file_extension": ".py",
   "mimetype": "text/x-python",
   "name": "python",
   "nbconvert_exporter": "python",
   "pygments_lexer": "ipython3",
   "version": "3.8.8"
  }
 },
 "nbformat": 4,
 "nbformat_minor": 5
}
