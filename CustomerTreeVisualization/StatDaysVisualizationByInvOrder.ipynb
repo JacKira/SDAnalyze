{
 "cells": [
  {
   "cell_type": "code",
   "execution_count": 1,
   "id": "766231f0",
   "metadata": {},
   "outputs": [],
   "source": [
    "import pyodbc\n",
    "import numpy as np\n",
    "import matplotlib.pyplot as plt\n",
    "import pandas as pd\n",
    "import seaborn as sns\n",
    "import gc\n",
    "import datetime\n",
    "from ipywidgets import IntProgress\n",
    "from ete3 import Tree, TreeStyle\n",
    "import swifter"
   ]
  },
  {
   "cell_type": "code",
   "execution_count": 2,
   "id": "d6d6b621",
   "metadata": {},
   "outputs": [
    {
     "data": {
      "text/plain": [
       "19"
      ]
     },
     "execution_count": 2,
     "metadata": {},
     "output_type": "execute_result"
    }
   ],
   "source": [
    "gc.collect()"
   ]
  },
  {
   "cell_type": "code",
   "execution_count": 3,
   "id": "ca6231d3",
   "metadata": {},
   "outputs": [],
   "source": [
    "server = 'analys-s'\n",
    "driver = '{SQL Server}'\n",
    "\n",
    "connstr = \"DRIVER = {0};SERVER = {1};\".replace(' ', '').format(driver, server)\n",
    "dbConnect = pyodbc.connect(connstr)\n",
    "cursor = dbConnect.cursor()"
   ]
  },
  {
   "cell_type": "code",
   "execution_count": 4,
   "id": "7893be14",
   "metadata": {
    "scrolled": true
   },
   "outputs": [],
   "source": [
    "df = pd.DataFrame({'ID':[], 'City':[], 'Number':[]})\n",
    "\n",
    "with pyodbc.connect(connstr) as cnxn:    \n",
    "    quer_str = 'SELECT DISTINCT CONCAT(CURDISCOUNTCARDTYPE, CURDISCOUNTCARDID) as ID,  City, NUMBER\\\n",
    "                   FROM ##CLearClientChks AS c'\n",
    "    \n",
    "    df = pd.read_sql(quer_str, cnxn)"
   ]
  },
  {
   "cell_type": "code",
   "execution_count": 5,
   "id": "8fafadb8",
   "metadata": {},
   "outputs": [
    {
     "data": {
      "application/vnd.jupyter.widget-view+json": {
       "model_id": "a041aa165b544e1293f5075b8b0cabc4",
       "version_major": 2,
       "version_minor": 0
      },
      "text/plain": [
       "Dask Apply:   0%|          | 0/8 [00:00<?, ?it/s]"
      ]
     },
     "metadata": {},
     "output_type": "display_data"
    }
   ],
   "source": [
    "\n",
    "df.City = df.swifter.apply(lambda x: 'Пункт 1' if(x.City == 'ИНТЕРНЕТ') else ( 'Пункт 2' if(x.City == 'МОСКВА') else ( 'Пункт 3' if(x.City == 'Санкт-Петербург') else ('Пнукт 4'))), axis = 1)"
   ]
  },
  {
   "cell_type": "code",
   "execution_count": 6,
   "id": "99d86ee9",
   "metadata": {},
   "outputs": [
    {
     "data": {
      "text/plain": [
       "array(['Пункт 1', 'Пнукт 4', 'Пункт 2', 'Пункт 3'], dtype=object)"
      ]
     },
     "execution_count": 6,
     "metadata": {},
     "output_type": "execute_result"
    }
   ],
   "source": [
    "df.City.unique()"
   ]
  },
  {
   "cell_type": "code",
   "execution_count": 14,
   "id": "e1adef93",
   "metadata": {},
   "outputs": [],
   "source": [
    "df.to_csv('CustomerRoadMap.csv', index = False)"
   ]
  },
  {
   "cell_type": "code",
   "execution_count": 7,
   "id": "24c2d3b8",
   "metadata": {
    "scrolled": true
   },
   "outputs": [
    {
     "data": {
      "text/html": [
       "<div>\n",
       "<style scoped>\n",
       "    .dataframe tbody tr th:only-of-type {\n",
       "        vertical-align: middle;\n",
       "    }\n",
       "\n",
       "    .dataframe tbody tr th {\n",
       "        vertical-align: top;\n",
       "    }\n",
       "\n",
       "    .dataframe thead th {\n",
       "        text-align: right;\n",
       "    }\n",
       "</style>\n",
       "<table border=\"1\" class=\"dataframe\">\n",
       "  <thead>\n",
       "    <tr style=\"text-align: right;\">\n",
       "      <th></th>\n",
       "      <th>ID</th>\n",
       "      <th>City</th>\n",
       "      <th>NUMBER</th>\n",
       "    </tr>\n",
       "  </thead>\n",
       "  <tbody>\n",
       "    <tr>\n",
       "      <th>0</th>\n",
       "      <td>01980069</td>\n",
       "      <td>Пункт 1</td>\n",
       "      <td>1</td>\n",
       "    </tr>\n",
       "    <tr>\n",
       "      <th>1</th>\n",
       "      <td>02158875</td>\n",
       "      <td>Пункт 1</td>\n",
       "      <td>3</td>\n",
       "    </tr>\n",
       "    <tr>\n",
       "      <th>2</th>\n",
       "      <td>03041188</td>\n",
       "      <td>Пункт 1</td>\n",
       "      <td>2</td>\n",
       "    </tr>\n",
       "    <tr>\n",
       "      <th>3</th>\n",
       "      <td>0400000356</td>\n",
       "      <td>Пнукт 4</td>\n",
       "      <td>1</td>\n",
       "    </tr>\n",
       "    <tr>\n",
       "      <th>4</th>\n",
       "      <td>0400000356</td>\n",
       "      <td>Пнукт 4</td>\n",
       "      <td>4</td>\n",
       "    </tr>\n",
       "  </tbody>\n",
       "</table>\n",
       "</div>"
      ],
      "text/plain": [
       "           ID     City  NUMBER\n",
       "0    01980069  Пункт 1       1\n",
       "1    02158875  Пункт 1       3\n",
       "2    03041188  Пункт 1       2\n",
       "3  0400000356  Пнукт 4       1\n",
       "4  0400000356  Пнукт 4       4"
      ]
     },
     "execution_count": 7,
     "metadata": {},
     "output_type": "execute_result"
    }
   ],
   "source": [
    "df.head()"
   ]
  },
  {
   "cell_type": "code",
   "execution_count": 8,
   "id": "1b6f49c9",
   "metadata": {},
   "outputs": [
    {
     "data": {
      "text/plain": [
       "(765098, 3)"
      ]
     },
     "execution_count": 8,
     "metadata": {},
     "output_type": "execute_result"
    }
   ],
   "source": [
    "df.shape"
   ]
  },
  {
   "cell_type": "code",
   "execution_count": 9,
   "id": "abbd88d0",
   "metadata": {},
   "outputs": [],
   "source": [
    "def exists(it):\n",
    "    return (it is not None)"
   ]
  },
  {
   "cell_type": "code",
   "execution_count": 10,
   "id": "c2ed2829",
   "metadata": {},
   "outputs": [],
   "source": [
    "class Node:\n",
    "    def __init__(self, number, city, ids = []):\n",
    "        self.val = len(ids)\n",
    "        self.part = 0\n",
    "        self.main_part = 0\n",
    "        self.city = city\n",
    "        self.number = number\n",
    "        self.ids = ids\n",
    "        self.nodes = []\n",
    "\n",
    "    def add_node(self,  number, city,  ids = []):\n",
    "        self.nodes.append(NonBinTree(number, city, ids))\n",
    "\n",
    "    def __repr__(self):\n",
    "        str1 = f\" {self.number} - я Покупка из {self.city} \"\n",
    "        str2 = f\"с относительной доля {round(self.part*100, 2)}% \"\n",
    "        str3 = f\"и общей долей {round(self.main_part*100, 2)}% \"\n",
    "        str4 = ''\n",
    "        nodes_clr = list(filter(exists, self.nodes))\n",
    "        if(len(nodes_clr) == 0):\n",
    "                return \"(\" + str1 + str2 + str3 + str4 + \")\"\n",
    "        return \"((\" + ','.join(map(str, nodes_clr)) + '),' + str1 + str2 + str3 + str4 +\")\"\n",
    "\n",
    "    \n",
    "\n",
    "    \n",
    "#Level-order traversal \n",
    "def levelOrder(root):\n",
    "    levels = []\n",
    "    queue = [root]\n",
    "    while queue and root:\n",
    "        currNode,nextLevel = [],[]\n",
    "        for nd in queue:\n",
    "            if(nd):\n",
    "                currNode.append(nd)\n",
    "                for child in nd.nodes:\n",
    "                    nextLevel.append(child)\n",
    "        queue = nextLevel\n",
    "        levels.append(currNode)\n",
    "    return levels\n",
    "\n",
    "\n",
    "def FillNode(ds, city, n, ids, root_val, max_n = 4):\n",
    "    node = None\n",
    "    prt = 0\n",
    "    main_prt = 0\n",
    "    if(n > max_n):\n",
    "        return node\n",
    "    if(city == 'НЕ Пункт 1'):\n",
    "        if(n == max_n):\n",
    "            strq = 'City != \"Пункт 1\"  and (NUMBER >= {1}) and (ID in {2})'.format(city, n, ids.reshape(1, -1)[0].tolist())\n",
    "            part = ds.query(strq)\n",
    "            strq = '(NUMBER >= {1}) and (ID in {2})'.format(city, n, ids.reshape(1, -1)[0].tolist())\n",
    "            all_count = len(ds.query(strq))\n",
    "            prt = len(part.ID)/ all_count \n",
    "            main_prt = len(part.ID) / root_val\n",
    "        else:\n",
    "            strq = 'City != \"Пункт 1\"  and (NUMBER == {1}) and (ID in {2})'.format(city, n, ids.reshape(1, -1)[0].tolist())\n",
    "            part = ds.query(strq)\n",
    "            strq = '(NUMBER == {1}) and (ID in {2})'.format(city, n, ids.reshape(1, -1)[0].tolist())\n",
    "            all_count = len(ds.query(strq).ID.unique())\n",
    "            prt = len(part.ID.unique())/ all_count \n",
    "            main_prt = len(part.ID.unique()) / root_val\n",
    "            \n",
    "    elif(n != 0):\n",
    "            strq = 'City == \"{0}\"  and (NUMBER == {1}) and (ID in {2})'.format(city, n, ids.reshape(1, -1)[0].tolist())\n",
    "            part = ds.query(strq)\n",
    "            strq = '(NUMBER == {1}) and (ID in {2})'.format(city, n, ids.reshape(1, -1)[0].tolist())\n",
    "            all_count = len(ds.query(strq).ID.unique())\n",
    "            prt = len(part.ID.unique())/ all_count \n",
    "            main_prt = len(part.ID.unique()) / root_val\n",
    "    elif(n == 0):\n",
    "        part = ds\n",
    "        all_count = len(part.ID.unique())\n",
    "        prt = len(part.ID.unique())/ all_count \n",
    "        main_prt = len(part.ID.unique()) / root_val\n",
    "    if(len(part) == 0):\n",
    "        return None\n",
    "    node = Node(n, city, part.ID.unique())\n",
    "    node.part = prt\n",
    "    node.main_part = main_prt\n",
    "    if(n > 0):\n",
    "        for city in ['Пункт 1', 'НЕ Пункт 1']:\n",
    "            node.nodes.append(FillNode(ds, city, n + 1, part.ID.unique(), root_val))\n",
    "    else:\n",
    "        for city in list(ds.City.unique()):\n",
    "            node.nodes.append(FillNode(ds, city, n + 1, part.ID.unique(), root_val))\n",
    "    \n",
    "        \n",
    "    return node\n",
    "    \n"
   ]
  },
  {
   "cell_type": "code",
   "execution_count": 11,
   "id": "946ddcc8",
   "metadata": {},
   "outputs": [
    {
     "data": {
      "text/html": [
       "<div>\n",
       "<style scoped>\n",
       "    .dataframe tbody tr th:only-of-type {\n",
       "        vertical-align: middle;\n",
       "    }\n",
       "\n",
       "    .dataframe tbody tr th {\n",
       "        vertical-align: top;\n",
       "    }\n",
       "\n",
       "    .dataframe thead th {\n",
       "        text-align: right;\n",
       "    }\n",
       "</style>\n",
       "<table border=\"1\" class=\"dataframe\">\n",
       "  <thead>\n",
       "    <tr style=\"text-align: right;\">\n",
       "      <th></th>\n",
       "      <th>ID</th>\n",
       "      <th>City</th>\n",
       "      <th>NUMBER</th>\n",
       "    </tr>\n",
       "  </thead>\n",
       "  <tbody>\n",
       "    <tr>\n",
       "      <th>0</th>\n",
       "      <td>01980069</td>\n",
       "      <td>Пункт 1</td>\n",
       "      <td>1</td>\n",
       "    </tr>\n",
       "    <tr>\n",
       "      <th>1</th>\n",
       "      <td>02158875</td>\n",
       "      <td>Пункт 1</td>\n",
       "      <td>3</td>\n",
       "    </tr>\n",
       "    <tr>\n",
       "      <th>2</th>\n",
       "      <td>03041188</td>\n",
       "      <td>Пункт 1</td>\n",
       "      <td>2</td>\n",
       "    </tr>\n",
       "    <tr>\n",
       "      <th>3</th>\n",
       "      <td>0400000356</td>\n",
       "      <td>Пнукт 4</td>\n",
       "      <td>1</td>\n",
       "    </tr>\n",
       "    <tr>\n",
       "      <th>4</th>\n",
       "      <td>0400000356</td>\n",
       "      <td>Пнукт 4</td>\n",
       "      <td>4</td>\n",
       "    </tr>\n",
       "    <tr>\n",
       "      <th>...</th>\n",
       "      <td>...</td>\n",
       "      <td>...</td>\n",
       "      <td>...</td>\n",
       "    </tr>\n",
       "    <tr>\n",
       "      <th>765093</th>\n",
       "      <td>9828913537</td>\n",
       "      <td>Пнукт 4</td>\n",
       "      <td>3</td>\n",
       "    </tr>\n",
       "    <tr>\n",
       "      <th>765094</th>\n",
       "      <td>9828934691</td>\n",
       "      <td>Пнукт 4</td>\n",
       "      <td>1</td>\n",
       "    </tr>\n",
       "    <tr>\n",
       "      <th>765095</th>\n",
       "      <td>9829206954</td>\n",
       "      <td>Пнукт 4</td>\n",
       "      <td>2</td>\n",
       "    </tr>\n",
       "    <tr>\n",
       "      <th>765096</th>\n",
       "      <td>9829206954</td>\n",
       "      <td>Пнукт 4</td>\n",
       "      <td>5</td>\n",
       "    </tr>\n",
       "    <tr>\n",
       "      <th>765097</th>\n",
       "      <td>9829243141</td>\n",
       "      <td>Пнукт 4</td>\n",
       "      <td>3</td>\n",
       "    </tr>\n",
       "  </tbody>\n",
       "</table>\n",
       "<p>765098 rows × 3 columns</p>\n",
       "</div>"
      ],
      "text/plain": [
       "                ID     City  NUMBER\n",
       "0         01980069  Пункт 1       1\n",
       "1         02158875  Пункт 1       3\n",
       "2         03041188  Пункт 1       2\n",
       "3       0400000356  Пнукт 4       1\n",
       "4       0400000356  Пнукт 4       4\n",
       "...            ...      ...     ...\n",
       "765093  9828913537  Пнукт 4       3\n",
       "765094  9828934691  Пнукт 4       1\n",
       "765095  9829206954  Пнукт 4       2\n",
       "765096  9829206954  Пнукт 4       5\n",
       "765097  9829243141  Пнукт 4       3\n",
       "\n",
       "[765098 rows x 3 columns]"
      ]
     },
     "execution_count": 11,
     "metadata": {},
     "output_type": "execute_result"
    }
   ],
   "source": [
    "ds = df\n",
    "ds"
   ]
  },
  {
   "cell_type": "code",
   "execution_count": 12,
   "id": "165c35ba",
   "metadata": {
    "scrolled": true
   },
   "outputs": [],
   "source": [
    "root = FillNode(ds, 'ALL', 0, ds.ID.unique(), len(ds.ID.unique()))"
   ]
  },
  {
   "cell_type": "code",
   "execution_count": 13,
   "id": "2ec307db",
   "metadata": {
    "scrolled": true
   },
   "outputs": [],
   "source": [
    "\n",
    "t = Tree( str(root).replace('[', '').replace(']', '')+\";\" )\n",
    "\n",
    "ts = TreeStyle()\n",
    "ts.show_leaf_name = True\n",
    "ts.branch_vertical_margin = 20 # 10 pixels between adjacent branches\n",
    "#t.render(\"mytree.png\", tree_style=ts, dpi = 300)\n",
    "ts.scale =  120 # 120 pixels per branch length unit\n",
    "t.show(tree_style=ts)"
   ]
  },
  {
   "cell_type": "markdown",
   "id": "ca0c0a07",
   "metadata": {},
   "source": [
    "# Test Visualization\n"
   ]
  },
  {
   "cell_type": "code",
   "execution_count": null,
   "id": "c29edfaa",
   "metadata": {},
   "outputs": [],
   "source": [
    "a = Node(1, 'ИНТЕРНЕТ')\n",
    "a.nodes.append(Node(2, 'ИНТЕРНЕТ'))\n",
    "a.nodes.append(Node(2, 'МОСКВА'))\n",
    "a.nodes.append(Node(2, 'СПБ'))\n",
    "a.nodes.append(None)\n",
    "a.nodes.append(None)\n",
    "\n",
    "\n",
    "\n",
    "a.nodes[0].nodes.append(Node(3, 'ИНТЕРНЕТ'))\n",
    "a.nodes[0].nodes.append(Node(3, 'МОСКВА'))\n",
    "a.nodes[0].nodes.append(Node(3, 'СПБ'))\n",
    "a.nodes[0].nodes.append(None)\n",
    "a.nodes[0].nodes.append(None)\n",
    "\n",
    "\n",
    "print(a)"
   ]
  },
  {
   "cell_type": "code",
   "execution_count": 100,
   "id": "87e3bf0e",
   "metadata": {},
   "outputs": [
    {
     "data": {
      "text/plain": [
       "'((((( 3 - я Покупка из ИНТЕРНЕТ с долей относительно данного сегмента 0% и с долей отностильно всех покупок 0%_0 ),( 3 - я Покупка из МОСКВА с долей относительно данного сегмента 0% и с долей отностильно всех покупок 0%_0 ),( 3 - я Покупка из СПБ с долей относительно данного сегмента 0% и с долей отностильно всех покупок 0%_0 )), 2 - я Покупка из ИНТЕРНЕТ с долей относительно данного сегмента 0% и с долей отностильно всех покупок 0%_0 ),( 2 - я Покупка из МОСКВА с долей относительно данного сегмента 0% и с долей отностильно всех покупок 0%_0 ),( 2 - я Покупка из СПБ с долей относительно данного сегмента 0% и с долей отностильно всех покупок 0%_0 )), 1 - я Покупка из ИНТЕРНЕТ с долей относительно данного сегмента 0% и с долей отностильно всех покупок 0%_0 )'"
      ]
     },
     "execution_count": 100,
     "metadata": {},
     "output_type": "execute_result"
    }
   ],
   "source": [
    "str(a)"
   ]
  },
  {
   "cell_type": "code",
   "execution_count": 101,
   "id": "66b803cd",
   "metadata": {},
   "outputs": [],
   "source": [
    "\n",
    "t = Tree( str(a)+\";\" )\n",
    "\n",
    "ts = TreeStyle()\n",
    "ts.show_leaf_name = True\n",
    "ts.branch_vertical_margin = 20 # 10 pixels between adjacent branches\n",
    "#t.render(\"mytree.png\", tree_style=ts, dpi = 300)\n",
    "ts.scale =  120 # 120 pixels per branch length unit\n",
    "t.show(tree_style=ts)"
   ]
  },
  {
   "cell_type": "code",
   "execution_count": 119,
   "id": "405baf33",
   "metadata": {},
   "outputs": [
    {
     "data": {
      "text/plain": [
       "array(['01009580', '01051044', '02158875', ..., '9800545785',\n",
       "       '9800586924', '9801056788'], dtype=object)"
      ]
     },
     "execution_count": 119,
     "metadata": {},
     "output_type": "execute_result"
    }
   ],
   "source": [
    "ds.ID.unique()"
   ]
  },
  {
   "cell_type": "code",
   "execution_count": null,
   "id": "d8a10632",
   "metadata": {},
   "outputs": [],
   "source": []
  }
 ],
 "metadata": {
  "kernelspec": {
   "display_name": "Python 3 (ipykernel)",
   "language": "python",
   "name": "python3"
  },
  "language_info": {
   "codemirror_mode": {
    "name": "ipython",
    "version": 3
   },
   "file_extension": ".py",
   "mimetype": "text/x-python",
   "name": "python",
   "nbconvert_exporter": "python",
   "pygments_lexer": "ipython3",
   "version": "3.9.7"
  }
 },
 "nbformat": 4,
 "nbformat_minor": 5
}
